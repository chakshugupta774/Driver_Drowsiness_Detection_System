{
 "cells": [
  {
   "cell_type": "code",
   "execution_count": 15,
   "metadata": {},
   "outputs": [],
   "source": [
    "import os\n",
    "from keras.preprocessing import image\n",
    "import matplotlib.pyplot as plt \n",
    "import numpy as np\n",
    "from keras.utils.np_utils import to_categorical\n",
    "import random,shutil\n",
    "from keras.models import Sequential\n",
    "from keras.layers import Dropout,Conv2D,Flatten,Dense, MaxPooling2D, BatchNormalization\n",
    "from keras.models import load_model"
   ]
  },
  {
   "cell_type": "code",
   "execution_count": 16,
   "metadata": {},
   "outputs": [],
   "source": [
    "def generator(dir, gen=image.ImageDataGenerator(rescale=1./255), shuffle=True,batch_size=1,target_size=(24,24),class_mode='categorical' ):\n",
    "    \n",
    "    return gen.flow_from_directory(dir,batch_size=batch_size,shuffle=shuffle,color_mode='grayscale',class_mode=class_mode,target_size=target_size)"
   ]
  },
  {
   "cell_type": "code",
   "execution_count": 17,
   "metadata": {},
   "outputs": [
    {
     "name": "stdout",
     "output_type": "stream",
     "text": [
      "Found 2467 images belonging to 4 classes.\n",
      "Found 433 images belonging to 4 classes.\n",
      "77 13\n"
     ]
    }
   ],
   "source": [
    "BS = 32  # Batch Size\n",
    "TS = (24,24)  # Target Size\n",
    "\n",
    "train_batch = generator(\"D:\\E\\Github\\Driver_Drowsiness_Detection_System\\dataset_new\\\\train\", shuffle=True, batch_size=BS, target_size=TS)\n",
    "valid_batch = generator(\"D:\\E\\Github\\Driver_Drowsiness_Detection_System\\dataset_new\\\\test\", shuffle=True, batch_size=BS, target_size=TS)\n",
    "\n",
    "SPE = len(train_batch.classes) // BS  # Steps per epoch\n",
    "VS = len(valid_batch.classes) // BS  # Validation steps\n",
    "print(SPE, VS)"
   ]
  },
  {
   "cell_type": "code",
   "execution_count": 18,
   "metadata": {},
   "outputs": [],
   "source": [
    "model = Sequential([\n",
    "    Conv2D(32, kernel_size=(3, 3), activation='relu', input_shape=(24,24,1)),  # Conv Layer 1\n",
    "    MaxPooling2D(pool_size=(1,1)),\n",
    "\n",
    "    Conv2D(32, (3,3), activation='relu'),  # Conv Layer 2\n",
    "    MaxPooling2D(pool_size=(1,1)),\n",
    "\n",
    "    Conv2D(64, (3,3), activation='relu'),  # Conv Layer 3\n",
    "    MaxPooling2D(pool_size=(1,1)),\n",
    "\n",
    "    Dropout(0.25),  # Dropout for regularization\n",
    "    Flatten(),  # Flatten the feature map\n",
    "    Dense(128, activation='relu'),  # Fully connected layer\n",
    "    Dropout(0.5),  # More regularization\n",
    "    Dense(4, activation='softmax')  # Output layer (2 classes)\n",
    "])"
   ]
  },
  {
   "cell_type": "code",
   "execution_count": 19,
   "metadata": {},
   "outputs": [],
   "source": [
    "model.compile(optimizer='adam', loss='categorical_crossentropy', metrics=['accuracy'])"
   ]
  },
  {
   "cell_type": "code",
   "execution_count": 20,
   "metadata": {},
   "outputs": [
    {
     "name": "stdout",
     "output_type": "stream",
     "text": [
      "Epoch 1/15\n",
      "77/77 [==============================] - 7s 81ms/step - loss: 0.7665 - accuracy: 0.6407 - val_loss: 0.4394 - val_accuracy: 0.8077\n",
      "Epoch 2/15\n",
      "77/77 [==============================] - 6s 83ms/step - loss: 0.4687 - accuracy: 0.7848 - val_loss: 0.3728 - val_accuracy: 0.8053\n",
      "Epoch 3/15\n",
      "77/77 [==============================] - 9s 113ms/step - loss: 0.3787 - accuracy: 0.8144 - val_loss: 0.3590 - val_accuracy: 0.8029\n",
      "Epoch 4/15\n",
      "77/77 [==============================] - 9s 113ms/step - loss: 0.3520 - accuracy: 0.8324 - val_loss: 0.3608 - val_accuracy: 0.8245\n",
      "Epoch 5/15\n",
      "77/77 [==============================] - 10s 131ms/step - loss: 0.3208 - accuracy: 0.8489 - val_loss: 0.3729 - val_accuracy: 0.8197\n",
      "Epoch 6/15\n",
      "77/77 [==============================] - 9s 111ms/step - loss: 0.2840 - accuracy: 0.8674 - val_loss: 0.3098 - val_accuracy: 0.8486\n",
      "Epoch 7/15\n",
      "77/77 [==============================] - 8s 110ms/step - loss: 0.2726 - accuracy: 0.8731 - val_loss: 0.3205 - val_accuracy: 0.8486\n",
      "Epoch 8/15\n",
      "77/77 [==============================] - 8s 108ms/step - loss: 0.2331 - accuracy: 0.8928 - val_loss: 0.2769 - val_accuracy: 0.8726\n",
      "Epoch 9/15\n",
      "77/77 [==============================] - 9s 113ms/step - loss: 0.2076 - accuracy: 0.9117 - val_loss: 0.2592 - val_accuracy: 0.8798\n",
      "Epoch 10/15\n",
      "77/77 [==============================] - 9s 116ms/step - loss: 0.1877 - accuracy: 0.9175 - val_loss: 0.2584 - val_accuracy: 0.8990\n",
      "Epoch 11/15\n",
      "77/77 [==============================] - 8s 110ms/step - loss: 0.1967 - accuracy: 0.9162 - val_loss: 0.2304 - val_accuracy: 0.9014\n",
      "Epoch 12/15\n",
      "77/77 [==============================] - 9s 112ms/step - loss: 0.1760 - accuracy: 0.9257 - val_loss: 0.2059 - val_accuracy: 0.9014\n",
      "Epoch 13/15\n",
      "77/77 [==============================] - 9s 111ms/step - loss: 0.1248 - accuracy: 0.9511 - val_loss: 0.2413 - val_accuracy: 0.9111\n",
      "Epoch 14/15\n",
      "77/77 [==============================] - 9s 118ms/step - loss: 0.1120 - accuracy: 0.9548 - val_loss: 0.2165 - val_accuracy: 0.9111\n",
      "Epoch 15/15\n",
      "77/77 [==============================] - 9s 114ms/step - loss: 0.0905 - accuracy: 0.9618 - val_loss: 0.1903 - val_accuracy: 0.9279\n"
     ]
    },
    {
     "data": {
      "text/plain": [
       "<keras.callbacks.History at 0x1d20273ef28>"
      ]
     },
     "execution_count": 20,
     "metadata": {},
     "output_type": "execute_result"
    }
   ],
   "source": [
    "model.fit(train_batch, validation_data=valid_batch, epochs=15, steps_per_epoch=SPE, validation_steps=VS)"
   ]
  },
  {
   "cell_type": "code",
   "execution_count": 22,
   "metadata": {},
   "outputs": [],
   "source": [
    "model.save('models/cnnCat2.h5', overwrite=True)"
   ]
  }
 ],
 "metadata": {
  "kernelspec": {
   "display_name": "DDD",
   "language": "python",
   "name": "python3"
  },
  "language_info": {
   "codemirror_mode": {
    "name": "ipython",
    "version": 3
   },
   "file_extension": ".py",
   "mimetype": "text/x-python",
   "name": "python",
   "nbconvert_exporter": "python",
   "pygments_lexer": "ipython3",
   "version": "3.6.13"
  }
 },
 "nbformat": 4,
 "nbformat_minor": 2
}
